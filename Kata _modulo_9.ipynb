{
 "cells": [
  {
   "cell_type": "markdown",
   "metadata": {},
   "source": [
    "# Ejercicio 1: Trabajar con argumentos en funciones"
   ]
  },
  {
   "cell_type": "code",
   "execution_count": 3,
   "metadata": {},
   "outputs": [],
   "source": [
    "# Función para leer 3 tanques de combustible y muestre el promedio\n",
    "def informe (dato1, dato2, dato3):\n",
    "    promedio = (dato1 + dato2 + dato3) /3\n",
    "    return f\"\"\"\n",
    "    Tanque 1: {dato1}%\n",
    "    Tanque 2: {dato2}%\n",
    "    tanque 3: {dato3}%\n",
    "    promedio: {promedio}%\"\"\""
   ]
  },
  {
   "cell_type": "code",
   "execution_count": 4,
   "metadata": {},
   "outputs": [
    {
     "name": "stdout",
     "output_type": "stream",
     "text": [
      "Tanque 1: 80%\n",
      "    Tanque 2: 70%\n",
      "    tanque 3: 55%\n",
      "    promedio: 68.33333333333333%\n"
     ]
    }
   ],
   "source": [
    "# Llamamos a la función que genera el reporte print(funcion(tanque1, tanque2, tanque3))\n",
    "print(informe(80,70,55))"
   ]
  },
  {
   "cell_type": "markdown",
   "metadata": {},
   "source": [
    "# Ejercicio 2: Trabajo con argumentos de palabra clave"
   ]
  },
  {
   "cell_type": "code",
   "execution_count": 10,
   "metadata": {},
   "outputs": [
    {
     "name": "stdout",
     "output_type": "stream",
     "text": [
      "\n",
      "    Informe de mision\n",
      "    Hora de prelanzamiento: 5 hrs\n",
      "    Tiempo de vuel: 50 min\n",
      "    Destino: Jupiter\n",
      "    Combustible en Tanque exterior: 88 litros\n",
      "    Combustible en Tanque interior 90 litros\n",
      "    Combustible total: 178\n",
      "\n",
      "    \n"
     ]
    }
   ],
   "source": [
    "# Función con un informe preciso de la misión. Considera hora de prelanzamiento, tiempo de vuelo, destino, tanque externo y tanque interno\n",
    "\n",
    "def informe_mision (hora_prelanzamiento, tiempo_vuelo, destino, tanque_ext, tanque_int):\n",
    "    return f\"\"\"\n",
    "    Informe de mision\n",
    "    Hora de prelanzamiento: {hora_prelanzamiento}\n",
    "    Tiempo de vuel: {tiempo_vuelo}\n",
    "    Destino: {destino}\n",
    "    Combustible en Tanque exterior: {tanque_ext} litros\n",
    "    Combustible en Tanque interior {tanque_int} litros\n",
    "    Combustible total: {tanque_ext + tanque_int}\n",
    "\n",
    "    \"\"\"\n",
    "\n",
    "print (informe_mision (\"5 hrs\",\"50 min\",\"Jupiter\",88,90))"
   ]
  },
  {
   "cell_type": "code",
   "execution_count": 17,
   "metadata": {},
   "outputs": [
    {
     "name": "stdout",
     "output_type": "stream",
     "text": [
      "\n",
      "    Informe de mision\n",
      "    Destino: Tierra\n",
      "    tiempo: 60 minutos\n",
      "    Combustible total: 8000 litros\n",
      "    \n"
     ]
    }
   ],
   "source": [
    "# Escribe tu nueva función de reporte considerando lo anterior\n",
    "def informe_mision (destino, *minutos, **tanques_combustible):\n",
    "    return f\"\"\"\n",
    "    Informe de mision\n",
    "    Destino: {destino}\n",
    "    tiempo: {sum(minutos)} minutos\n",
    "    Combustible total: {sum(tanques_combustible.values())} litros\n",
    "    \"\"\"\n",
    "\n",
    "print(informe_mision(\"Tierra\", 10, 20, 30, interno=5000, externo=3000))"
   ]
  },
  {
   "cell_type": "code",
   "execution_count": 39,
   "metadata": {},
   "outputs": [
    {
     "name": "stdout",
     "output_type": "stream",
     "text": [
      "\n",
      "    Informe de mision\n",
      "    Destino: Jupiter\n",
      "    tiempo: 74 minutos\n",
      "    Combustible total: 500000 litros\n",
      "    Tanque Interno tiene: 300000 litros\n",
      "Tanque Externo tiene: 200000 litros\n",
      "\n"
     ]
    }
   ],
   "source": [
    "# Escribe tu nueva función\n",
    "def informe_mision (destino, *minutos, **tanques_combustible):\n",
    "    reporte = f\"\"\"\n",
    "    Informe de mision\n",
    "    Destino: {destino}\n",
    "    tiempo: {sum(minutos)} minutos\n",
    "    Combustible total: {sum(tanques_combustible.values())} litros\n",
    "    \"\"\"\n",
    "    for nombre_tanque, litros in tanques_combustible.items():\n",
    "        reporte += f\"\"\"Tanque {nombre_tanque} tiene: {litros} litros\\n\"\"\"\n",
    "    return reporte\n",
    "\n",
    "print(informe_mision(\"Jupiter\", 8, 11, 55, Interno=300000, Externo=200000))"
   ]
  }
 ],
 "metadata": {
  "interpreter": {
   "hash": "e33a55f42fca0c23af68c69ec4342fdf8b8c1bdd6d57900e0e397e7b85171082"
  },
  "kernelspec": {
   "display_name": "Python 3.10.2 64-bit (windows store)",
   "language": "python",
   "name": "python3"
  },
  "language_info": {
   "codemirror_mode": {
    "name": "ipython",
    "version": 3
   },
   "file_extension": ".py",
   "mimetype": "text/x-python",
   "name": "python",
   "nbconvert_exporter": "python",
   "pygments_lexer": "ipython3",
   "version": "3.10.2"
  },
  "orig_nbformat": 4
 },
 "nbformat": 4,
 "nbformat_minor": 2
}
