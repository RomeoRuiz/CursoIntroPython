{
 "cells": [
  {
   "cell_type": "markdown",
   "metadata": {},
   "source": [
    "# Ejercicio - Escribir declaraciones if, else, y elif"
   ]
  },
  {
   "cell_type": "code",
   "execution_count": 1,
   "metadata": {},
   "outputs": [
    {
     "name": "stdout",
     "output_type": "stream",
     "text": [
      "Peligro de asteroide\n"
     ]
    }
   ],
   "source": [
    "# Añadir el código necesario para crear una variable que guarde la velocidad del asteroide.\n",
    "asteroide = 49\n",
    "# Escribe una expresión de prueba para calcular si necesita una advertencia.\n",
    "if asteroide > 25:\n",
    "    # Agregue las instrucciones que se ejecutarán si la expresión de prueba es true o false.\n",
    "    print(\"Peligro de asteroide\")\n",
    "else:\n",
    "    # Agregue las instrucciones que se ejecutarán si la expresión de prueba es true o false.\n",
    "    print(\"No hay peligro\")"
   ]
  },
  {
   "cell_type": "code",
   "execution_count": 4,
   "metadata": {},
   "outputs": [
    {
     "name": "stdout",
     "output_type": "stream",
     "text": [
      "Peligro de asteroide\n"
     ]
    }
   ],
   "source": [
    "# Agrega el código para crear una variable para un asteroide que viaja a 19 km/s\n",
    "asteroide = 19\n",
    "# Escribe varias expresiones de prueba para determinar si puedes ver el rayo de luz desde la tierra\n",
    "if asteroide > 20:\n",
    "    # Agrega las instrucciones que se ejecutarán si las expresiones de prueba son True o False\n",
    "    print(\"Mira al cielo puedes ver un rayo de luz por el asteroide\")\n",
    "elif asteroide == 20:\n",
    "    # Agrega las instrucciones que se ejecutarán si las expresiones de prueba son True o False\n",
    "    print(\"Mira al cielo puedes ver un rayo de luz por el asteroide\")\n",
    "else:\n",
    "    # Agrega las instrucciones que se ejecutarán si las expresiones de prueba son True o False\n",
    "    print(\"No hay peligro\")"
   ]
  },
  {
   "cell_type": "markdown",
   "metadata": {},
   "source": [
    "# Ejercicio: Uso de operadores and y or"
   ]
  },
  {
   "cell_type": "code",
   "execution_count": 8,
   "metadata": {},
   "outputs": [
    {
     "name": "stdout",
     "output_type": "stream",
     "text": [
      "Mira al cielo puedes ver un rayo de luz por el asteroide\n"
     ]
    }
   ],
   "source": [
    "\n",
    "velocidad = 80\n",
    "tamano = 10\n",
    "if velocidad > 25 and tamano > 25:\n",
    "    print('Peligro de asteroide')\n",
    "elif velocidad >= 20:\n",
    "    print('Mira al cielo puedes ver un rayo de luz por el asteroide')\n",
    "elif tamano < 25:\n",
    "    print('No hay peligro')\n",
    "else:\n",
    "    print('No hay peligro')"
   ]
  }
 ],
 "metadata": {
  "interpreter": {
   "hash": "e33a55f42fca0c23af68c69ec4342fdf8b8c1bdd6d57900e0e397e7b85171082"
  },
  "kernelspec": {
   "display_name": "Python 3.10.2 64-bit (windows store)",
   "language": "python",
   "name": "python3"
  },
  "language_info": {
   "codemirror_mode": {
    "name": "ipython",
    "version": 3
   },
   "file_extension": ".py",
   "mimetype": "text/x-python",
   "name": "python",
   "nbconvert_exporter": "python",
   "pygments_lexer": "ipython3",
   "version": "3.10.2"
  },
  "orig_nbformat": 4
 },
 "nbformat": 4,
 "nbformat_minor": 2
}
